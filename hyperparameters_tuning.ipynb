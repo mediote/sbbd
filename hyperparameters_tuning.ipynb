{
 "cells": [
  {
   "cell_type": "markdown",
   "id": "00e83adf",
   "metadata": {},
   "source": [
    "## Checando o ambiente carregando bibliotecas e dados"
   ]
  },
  {
   "cell_type": "code",
   "execution_count": 1,
   "id": "552ae003",
   "metadata": {},
   "outputs": [
    {
     "name": "stdout",
     "output_type": "stream",
     "text": [
      "There are 1 GPU(s) available.\n",
      "We will use the GPU: NVIDIA GeForce RTX 2060 SUPER\n"
     ]
    }
   ],
   "source": [
    "import torch\n",
    "\n",
    "if torch.cuda.is_available():        \n",
    "    device = torch.device(\"cuda\")    \n",
    "    print('There are %d GPU(s) available.' % torch.cuda.device_count())    \n",
    "    print('We will use the GPU:', torch.cuda.get_device_name(0))\n",
    "else:\n",
    "    print('No GPU available, using the CPU instead.')\n",
    "    device = torch.device(\"cpu\")"
   ]
  },
  {
   "cell_type": "code",
   "execution_count": 2,
   "id": "8bb1098f",
   "metadata": {},
   "outputs": [],
   "source": [
    "import pandas as pd\n",
    "import random\n",
    "import numpy as np\n",
    "import hdbscan\n",
    "from umap import UMAP\n",
    "import os\n",
    "os.environ[\"TOKENIZERS_PARALLELISM\"] = \"false\"\n",
    "from hyperopt import hp\n",
    "from hyperopt import fmin, tpe, STATUS_OK, space_eval, Trials\n",
    "from functools import partial"
   ]
  },
  {
   "cell_type": "code",
   "execution_count": 3,
   "id": "66a115ea",
   "metadata": {},
   "outputs": [],
   "source": [
    "#train =  pd.read_csv('./datasets/banck/train.csv')\n",
    "#test =  pd.read_csv('./datasets/banck/test.csv')\n",
    "\n",
    "antivaxxers = pd.read_csv('./datasets/antivaxxers/antivaxxers_processed.csv')"
   ]
  },
  {
   "cell_type": "code",
   "execution_count": 4,
   "id": "7fefe19f",
   "metadata": {},
   "outputs": [],
   "source": [
    "docs = antivaxxers"
   ]
  },
  {
   "cell_type": "markdown",
   "id": "43c3f738",
   "metadata": {},
   "source": [
    "## Carregando modelos e gerando embeddings"
   ]
  },
  {
   "cell_type": "code",
   "execution_count": 5,
   "id": "3d602909",
   "metadata": {},
   "outputs": [],
   "source": [
    "from sentence_transformers import SentenceTransformer\n",
    "\n",
    "mpnet_model = SentenceTransformer(\"all-mpnet-base-v2\", device=\"cuda\")\n",
    "minilm_model = SentenceTransformer(\"all-MiniLM-L6-v2\", device=\"cuda\")\n",
    "bert_base_model = SentenceTransformer(\"xlm-r-bert-base-nli-stsb-mean-tokens\", device=\"cuda\")"
   ]
  },
  {
   "cell_type": "code",
   "execution_count": 6,
   "id": "89cc69e5",
   "metadata": {},
   "outputs": [
    {
     "data": {
      "application/vnd.jupyter.widget-view+json": {
       "model_id": "08e8261244a74a64a84eb09f7d695b2c",
       "version_major": 2,
       "version_minor": 0
      },
      "text/plain": [
       "Batches:   0%|          | 0/680 [00:00<?, ?it/s]"
      ]
     },
     "metadata": {},
     "output_type": "display_data"
    },
    {
     "data": {
      "application/vnd.jupyter.widget-view+json": {
       "model_id": "16dba4aad6884c19b2f934d92ad1af1f",
       "version_major": 2,
       "version_minor": 0
      },
      "text/plain": [
       "Batches:   0%|          | 0/680 [00:00<?, ?it/s]"
      ]
     },
     "metadata": {},
     "output_type": "display_data"
    },
    {
     "data": {
      "application/vnd.jupyter.widget-view+json": {
       "model_id": "5fb5b0915f1b48c0ad9411e5f4f68406",
       "version_major": 2,
       "version_minor": 0
      },
      "text/plain": [
       "Batches:   0%|          | 0/680 [00:00<?, ?it/s]"
      ]
     },
     "metadata": {},
     "output_type": "display_data"
    }
   ],
   "source": [
    "mpnet_embeddings = mpnet_model.encode(docs.text, show_progress_bar=True)\n",
    "minilm_embeddings = minilm_model.encode(docs.text, show_progress_bar=True)\n",
    "bert_base_embeddings = bert_base_model.encode(docs.text, show_progress_bar=True)"
   ]
  },
  {
   "cell_type": "markdown",
   "id": "28cad65a",
   "metadata": {},
   "source": [
    "## Função para gerar os clusters"
   ]
  },
  {
   "cell_type": "code",
   "execution_count": 7,
   "id": "c16ed596",
   "metadata": {},
   "outputs": [],
   "source": [
    "def generate_clusters(embeddings,\n",
    "                      n_neighbors,\n",
    "                      n_components, \n",
    "                      min_cluster_size,\n",
    "                      random_state = None):\n",
    "    \"\"\"\n",
    "    Generate HDBSCAN cluster object after reducing embedding dimensionality with UMAP\n",
    "    \"\"\"\n",
    "    \n",
    "    umap_embeddings = (UMAP(n_neighbors=n_neighbors, \n",
    "                                n_components=n_components, \n",
    "                                metric='cosine', \n",
    "                                random_state=random_state)\n",
    "                                .fit_transform(embeddings))\n",
    "\n",
    "    clusters = hdbscan.HDBSCAN(min_cluster_size = min_cluster_size,\n",
    "                               metric='euclidean', \n",
    "                               cluster_selection_method='eom').fit(umap_embeddings)\n",
    "\n",
    "    return clusters"
   ]
  },
  {
   "cell_type": "markdown",
   "id": "f90e42e2",
   "metadata": {},
   "source": [
    "## Função para calcular custo"
   ]
  },
  {
   "cell_type": "code",
   "execution_count": 8,
   "id": "baf9b0ac",
   "metadata": {},
   "outputs": [],
   "source": [
    "def score_clusters(clusters, prob_threshold = 0.05):\n",
    "    \"\"\"\n",
    "    Returns the label count and cost of a given cluster supplied from running hdbscan\n",
    "    \"\"\"\n",
    "    \n",
    "    cluster_labels = clusters.labels_\n",
    "    label_count = len(np.unique(cluster_labels))\n",
    "    total_num = len(clusters.labels_)\n",
    "    cost = (np.count_nonzero(clusters.probabilities_ < prob_threshold)/total_num)\n",
    "    \n",
    "    return label_count, cost"
   ]
  },
  {
   "cell_type": "markdown",
   "id": "41bb740c",
   "metadata": {},
   "source": [
    "## Função objetivo para minimizar a perda"
   ]
  },
  {
   "cell_type": "code",
   "execution_count": 9,
   "id": "729c2b33",
   "metadata": {},
   "outputs": [],
   "source": [
    "def objective(params, embeddings, clusters_lower, clusters_upper):\n",
    "    \"\"\"\n",
    "    Objective function for hyperopt to minimize, which incorporates constraints\n",
    "    on the number of clusters we want to identify\n",
    "    \"\"\"\n",
    "    \n",
    "    clusters = generate_clusters(embeddings, \n",
    "                                 n_neighbors = params['n_neighbors'], \n",
    "                                 n_components = params['n_components'], \n",
    "                                 min_cluster_size = params['min_cluster_size'],\n",
    "                                 random_state = params['random_state'])\n",
    "    \n",
    "    label_count, cost = score_clusters(clusters, prob_threshold = 0.05)\n",
    "    \n",
    "    #15% penalty on the cost function if outside the desired range of groups\n",
    "    if (label_count < clusters_lower) | (label_count > clusters_upper):\n",
    "        penalty = 0.15 \n",
    "    else:\n",
    "        penalty = 0\n",
    "    \n",
    "    loss = cost + penalty\n",
    "    \n",
    "    return {'loss': loss, 'label_count': label_count, 'status': STATUS_OK}"
   ]
  },
  {
   "cell_type": "markdown",
   "id": "db75b463",
   "metadata": {},
   "source": [
    "## Otimização baysiana de hiperparametros com Hyperopt"
   ]
  },
  {
   "cell_type": "code",
   "execution_count": 10,
   "id": "c5926b9b",
   "metadata": {},
   "outputs": [],
   "source": [
    "def bayesian_search(embeddings, space, clusters_lower, clusters_upper, max_evals=100):\n",
    "    \"\"\"\n",
    "    Perform bayseian search on hyperopt hyperparameter space to minimize objective function\n",
    "    \"\"\"\n",
    "    \n",
    "    trials = Trials()\n",
    "    fmin_objective = partial(objective, embeddings=embeddings, clusters_lower=clusters_lower, clusters_upper=clusters_upper)\n",
    "    best = fmin(fmin_objective,  \n",
    "                space = space, \n",
    "                algo=tpe.suggest,\n",
    "                max_evals=max_evals, \n",
    "                trials=trials)\n",
    "\n",
    "    best_params = space_eval(space, best)\n",
    "    print ('best:')\n",
    "    print (best_params)\n",
    "    print (f\"label count: {trials.best_trial['result']['label_count']}\")\n",
    "    \n",
    "    best_clusters = generate_clusters(embeddings, \n",
    "                                      n_neighbors = best_params['n_neighbors'], \n",
    "                                      n_components = best_params['n_components'], \n",
    "                                      min_cluster_size = best_params['min_cluster_size'],\n",
    "                                      random_state = best_params['random_state'])\n",
    "    \n",
    "    return best_params, best_clusters, trials"
   ]
  },
  {
   "cell_type": "markdown",
   "id": "c0c8abf2",
   "metadata": {},
   "source": [
    "## Executando função de otimização de hiperparametros para diferentes modelos "
   ]
  },
  {
   "cell_type": "code",
   "execution_count": 11,
   "id": "5a7d3c9f",
   "metadata": {},
   "outputs": [],
   "source": [
    "hspace = {\n",
    "    'n_neighbors': hp.choice('n_neighbors',range(10,20)),\n",
    "    'n_components': hp.choice('n_components',range(3,10)),\n",
    "    'min_cluster_size': hp.choice('min_cluster_size',range(10,100)),\n",
    "    'random_state':42\n",
    "}\n",
    "\n",
    "clusters_lower=25\n",
    "clusters_upper=75\n",
    "max_evals = 100"
   ]
  },
  {
   "cell_type": "code",
   "execution_count": 12,
   "id": "7ae143ca",
   "metadata": {},
   "outputs": [
    {
     "name": "stdout",
     "output_type": "stream",
     "text": [
      "100%|██████████| 100/100 [32:36<00:00, 19.57s/trial, best loss: 0.18656349169847766]\n",
      "best:\n",
      "{'min_cluster_size': 95, 'n_components': 4, 'n_neighbors': 14, 'random_state': 42}\n",
      "label count: 10\n"
     ]
    }
   ],
   "source": [
    "mpnet_best_params, mpnet_best_clusters, mpnet_trials = bayesian_search(mpnet_embeddings,\n",
    "                                                                       space=hspace,\n",
    "                                                                       clusters_lower=clusters_lower,\n",
    "                                                                       clusters_upper=clusters_upper,\n",
    "                                                                       max_evals=max_evals)"
   ]
  },
  {
   "cell_type": "code",
   "execution_count": 14,
   "id": "a762ab39",
   "metadata": {},
   "outputs": [
    {
     "name": "stdout",
     "output_type": "stream",
     "text": [
      "100%|██████████| 100/100 [33:20<00:00, 20.00s/trial, best loss: 0.13705560410246975]\n",
      "best:\n",
      "{'min_cluster_size': 72, 'n_components': 3, 'n_neighbors': 16, 'random_state': 42}\n",
      "label count: 27\n"
     ]
    }
   ],
   "source": [
    "minilm_best_params, minilm_best_clusters, minilm_trials = bayesian_search(minilm_embeddings,\n",
    "                                                                          space=hspace,\n",
    "                                                                          clusters_lower=clusters_lower,\n",
    "                                                                          clusters_upper=clusters_upper,\n",
    "                                                                          max_evals=max_evals)"
   ]
  },
  {
   "cell_type": "code",
   "execution_count": 15,
   "id": "43c3ef28",
   "metadata": {},
   "outputs": [
    {
     "name": "stdout",
     "output_type": "stream",
     "text": [
      "100%|██████████| 100/100 [32:49<00:00, 19.70s/trial, best loss: 0.045255944441889344]\n",
      "best:\n",
      "{'min_cluster_size': 24, 'n_components': 6, 'n_neighbors': 14, 'random_state': 42}\n",
      "label count: 43\n"
     ]
    }
   ],
   "source": [
    "bert_base_best_params, bert_base_best_clusters, bert_base_trials = bayesian_search(bert_base_embeddings,\n",
    "                                                                                   space=hspace,\n",
    "                                                                                   clusters_lower=clusters_lower,\n",
    "                                                                                   clusters_upper=clusters_upper,\n",
    "                                                                                   max_evals=max_evals)"
   ]
  },
  {
   "cell_type": "markdown",
   "id": "7d1a6278",
   "metadata": {},
   "source": [
    "## Avaliando e comparando modelos (ARI, MNI e LOSS)"
   ]
  },
  {
   "cell_type": "code",
   "execution_count": 21,
   "id": "8b8d5046",
   "metadata": {},
   "outputs": [],
   "source": [
    "from sklearn.metrics.cluster import normalized_mutual_info_score\n",
    "from sklearn.metrics.cluster import adjusted_rand_score\n",
    "\n",
    "ground_labels = docs['category'].values\n",
    "model_name =['all-mpnet-base-v2','all-MiniLM-L6-v2','xlm-r-bert-base']\n",
    "\n",
    "trials_lst = [mpnet_trials,minilm_trials,bert_base_trials]\n",
    "model_lst = [mpnet_best_clusters, minilm_best_clusters, bert_base_best_clusters]\n",
    "model_best_params_lst = [mpnet_best_params,minilm_best_params,bert_base_best_params]\n",
    "\n",
    "loss=[]\n",
    "\n",
    "ari=[]\n",
    "mni=[]\n",
    "loss=[]\n",
    "n_clusters =[]\n",
    "\n",
    "min_cluster_size=[]\n",
    "n_components=[]\n",
    "n_neighbors=[]\n",
    "random_state=[]\n",
    "\n",
    "for trials in trials_lst:\n",
    "    loss.append(trials.best_trial['result']['loss'])\n",
    "    best_loss = pd.DataFrame({'LOSS':loss})\n",
    "    \n",
    "for model in model_lst:    \n",
    "    ari.append(np.round(adjusted_rand_score(ground_labels, model.labels_), 3))\n",
    "    mni.append(np.round(normalized_mutual_info_score(ground_labels, model.labels_), 3))\n",
    "    n_clusters.append(len(np.unique(model.labels_)))\n",
    "    best_metrics= pd.DataFrame({'ARI':ari,'MNI':mni, 'n_clusters': n_clusters })\n",
    "\n",
    "for params in model_best_params_lst:\n",
    "    min_cluster_size.append(params['min_cluster_size'])\n",
    "    n_components.append(params['n_components'])\n",
    "    n_neighbors.append(params['n_neighbors'])\n",
    "    random_state.append(params['random_state'])\n",
    "    best_params=pd.DataFrame({'min_cluster_size': min_cluster_size,'n_components':n_components,\n",
    "                              'n_neighbors':n_neighbors,'random_state':random_state})\n",
    "\n",
    "model_name = pd.DataFrame(model_name,columns=['Model'])\n",
    "model_eval = pd.concat([model_name,best_metrics,best_loss, best_params], axis=1, ignore_index=False)\n",
    "eval = {'Model': model_eval.Model, 'ARI':model_eval.ARI,'MNI':model_eval.MNI,\n",
    "        'LOSS':model_eval.LOSS, 'n_clusters': model_eval.n_clusters,'min_cluster_size':model_eval.min_cluster_size,\n",
    "         'n_neighbors':model_eval.n_neighbors,'n_components': model_eval.n_components, 'random_state':model_eval.random_state }\n",
    "model_eval = pd.DataFrame(eval)"
   ]
  },
  {
   "cell_type": "code",
   "execution_count": 22,
   "id": "a9eb5cc3",
   "metadata": {},
   "outputs": [
    {
     "data": {
      "text/html": [
       "<div>\n",
       "<style scoped>\n",
       "    .dataframe tbody tr th:only-of-type {\n",
       "        vertical-align: middle;\n",
       "    }\n",
       "\n",
       "    .dataframe tbody tr th {\n",
       "        vertical-align: top;\n",
       "    }\n",
       "\n",
       "    .dataframe thead th {\n",
       "        text-align: right;\n",
       "    }\n",
       "</style>\n",
       "<table border=\"1\" class=\"dataframe\">\n",
       "  <thead>\n",
       "    <tr style=\"text-align: right;\">\n",
       "      <th></th>\n",
       "      <th>Model</th>\n",
       "      <th>ARI</th>\n",
       "      <th>MNI</th>\n",
       "      <th>LOSS</th>\n",
       "      <th>n_clusters</th>\n",
       "      <th>min_cluster_size</th>\n",
       "      <th>n_neighbors</th>\n",
       "      <th>n_components</th>\n",
       "      <th>random_state</th>\n",
       "    </tr>\n",
       "  </thead>\n",
       "  <tbody>\n",
       "    <tr>\n",
       "      <th>0</th>\n",
       "      <td>all-mpnet-base-v2</td>\n",
       "      <td>0.337</td>\n",
       "      <td>0.763</td>\n",
       "      <td>0.040988</td>\n",
       "      <td>32</td>\n",
       "      <td>57</td>\n",
       "      <td>18</td>\n",
       "      <td>5</td>\n",
       "      <td>42</td>\n",
       "    </tr>\n",
       "    <tr>\n",
       "      <th>1</th>\n",
       "      <td>all-MiniLM-L6-v2</td>\n",
       "      <td>0.297</td>\n",
       "      <td>0.731</td>\n",
       "      <td>0.051085</td>\n",
       "      <td>31</td>\n",
       "      <td>77</td>\n",
       "      <td>11</td>\n",
       "      <td>7</td>\n",
       "      <td>42</td>\n",
       "    </tr>\n",
       "    <tr>\n",
       "      <th>2</th>\n",
       "      <td>xlm-r-bert-base</td>\n",
       "      <td>0.016</td>\n",
       "      <td>0.354</td>\n",
       "      <td>0.175992</td>\n",
       "      <td>17</td>\n",
       "      <td>54</td>\n",
       "      <td>14</td>\n",
       "      <td>7</td>\n",
       "      <td>42</td>\n",
       "    </tr>\n",
       "  </tbody>\n",
       "</table>\n",
       "</div>"
      ],
      "text/plain": [
       "               Model    ARI    MNI      LOSS  n_clusters  min_cluster_size  \\\n",
       "0  all-mpnet-base-v2  0.337  0.763  0.040988          32                57   \n",
       "1   all-MiniLM-L6-v2  0.297  0.731  0.051085          31                77   \n",
       "2    xlm-r-bert-base  0.016  0.354  0.175992          17                54   \n",
       "\n",
       "   n_neighbors  n_components  random_state  \n",
       "0           18             5            42  \n",
       "1           11             7            42  \n",
       "2           14             7            42  "
      ]
     },
     "execution_count": 22,
     "metadata": {},
     "output_type": "execute_result"
    }
   ],
   "source": [
    "model_eval"
   ]
  },
  {
   "cell_type": "code",
   "execution_count": 378,
   "id": "5ff38f45",
   "metadata": {},
   "outputs": [
    {
     "data": {
      "image/png": "[encoded data removed]",
      "text/plain": [
       "<Figure size 1080x720 with 2 Axes>"
      ]
     },
     "metadata": {
      "needs_background": "light"
     },
     "output_type": "display_data"
    }
   ],
   "source": [
    "from matplotlib import pyplot as plt\n",
    "%matplotlib inline\n",
    "\n",
    "plot_embedding = UMAP(n_neighbors=15, n_components=2,  min_dist=0.1, metric='cosine').fit_transform(mpnet_embeddings)\n",
    "\n",
    "def ploting_clusters(embeddings,labels):\n",
    "    result = pd.DataFrame(embeddings, columns=['x', 'y'])\n",
    "    result['labels'] = labels\n",
    "    # Visualize clusters\n",
    "    fig, ax = plt.subplots(figsize=(15, 10))\n",
    "    outliers = result.loc[result.labels == -1, :]\n",
    "    clustered = result.loc[result.labels != -1, :]\n",
    "    plt.scatter(outliers.x, outliers.y, color='#BDBDBD', s=0.15)\n",
    "    plt.scatter(clustered.x, clustered.y, c=clustered.labels, s=0.05, cmap='hsv_r')\n",
    "    plt.colorbar()\n",
    "    #plt.show()\n",
    "    \n",
    "ploting_clusters(plot_embedding,mpnet_model_best_clusters.labels_)"
   ]
  },
  {
   "cell_type": "code",
   "execution_count": 379,
   "id": "55ec501b",
   "metadata": {},
   "outputs": [
    {
     "data": {
      "image/png": "[encoded data removed]",
      "text/plain": [
       "<Figure size 1080x720 with 2 Axes>"
      ]
     },
     "metadata": {
      "needs_background": "light"
     },
     "output_type": "display_data"
    }
   ],
   "source": [
    "from matplotlib import pyplot as plt\n",
    "%matplotlib inline\n",
    "\n",
    "plot_embedding = UMAP(n_neighbors=15, n_components=2,  min_dist=0.1, metric='cosine').fit_transform(bert_base_embeddings)\n",
    "\n",
    "def ploting_clusters(embeddings,labels):\n",
    "    result = pd.DataFrame(embeddings, columns=['x', 'y'])\n",
    "    result['labels'] = labels\n",
    "    # Visualize clusters\n",
    "    fig, ax = plt.subplots(figsize=(15, 10))\n",
    "    outliers = result.loc[result.labels == -1, :]\n",
    "    clustered = result.loc[result.labels != -1, :]\n",
    "    plt.scatter(outliers.x, outliers.y, color='#BDBDBD', s=0.15)\n",
    "    plt.scatter(clustered.x, clustered.y, c=clustered.labels, s=0.05, cmap='hsv_r')\n",
    "    plt.colorbar()\n",
    "    #plt.show()\n",
    "    \n",
    "ploting_clusters(plot_embedding,bert_base_best_clusters.labels_)"
   ]
  },
  {
   "cell_type": "code",
   "execution_count": 24,
   "id": "1380cc28",
   "metadata": {
    "collapsed": true
   },
   "outputs": [
    {
     "ename": "KeyboardInterrupt",
     "evalue": "",
     "output_type": "error",
     "traceback": [
      "\u001b[1;31m---------------------------------------------------------------------------\u001b[0m",
      "\u001b[1;31mKeyboardInterrupt\u001b[0m                         Traceback (most recent call last)",
      "\u001b[1;32m~\\AppData\\Local\\Temp/ipykernel_14492/2400090318.py\u001b[0m in \u001b[0;36m<module>\u001b[1;34m\u001b[0m\n\u001b[0;32m      3\u001b[0m \u001b[1;33m\u001b[0m\u001b[0m\n\u001b[0;32m      4\u001b[0m \u001b[0membeddings\u001b[0m \u001b[1;33m=\u001b[0m \u001b[0mUMAP\u001b[0m\u001b[1;33m(\u001b[0m\u001b[0mn_neighbors\u001b[0m\u001b[1;33m=\u001b[0m\u001b[1;36m18\u001b[0m\u001b[1;33m,\u001b[0m \u001b[0mn_components\u001b[0m\u001b[1;33m=\u001b[0m\u001b[1;36m2\u001b[0m\u001b[1;33m,\u001b[0m  \u001b[0mmin_dist\u001b[0m\u001b[1;33m=\u001b[0m\u001b[1;36m0.1\u001b[0m\u001b[1;33m,\u001b[0m \u001b[0mmetric\u001b[0m\u001b[1;33m=\u001b[0m\u001b[1;34m'cosine'\u001b[0m\u001b[1;33m)\u001b[0m\u001b[1;33m.\u001b[0m\u001b[0mfit_transform\u001b[0m\u001b[1;33m(\u001b[0m\u001b[0mbert_base_embeddings\u001b[0m\u001b[1;33m)\u001b[0m\u001b[1;33m\u001b[0m\u001b[1;33m\u001b[0m\u001b[0m\n\u001b[1;32m----> 5\u001b[1;33m \u001b[0mhdbscan_score\u001b[0m \u001b[1;33m=\u001b[0m \u001b[0mDBCV\u001b[0m\u001b[1;33m(\u001b[0m\u001b[0membeddings\u001b[0m\u001b[1;33m,\u001b[0m \u001b[0mmpnet_best_clusters\u001b[0m\u001b[1;33m.\u001b[0m\u001b[0mlabels_\u001b[0m\u001b[1;33m,\u001b[0m \u001b[0mdist_function\u001b[0m\u001b[1;33m=\u001b[0m\u001b[0meuclidean\u001b[0m\u001b[1;33m)\u001b[0m\u001b[1;33m\u001b[0m\u001b[1;33m\u001b[0m\u001b[0m\n\u001b[0m\u001b[0;32m      6\u001b[0m \u001b[0mhdbscan_score\u001b[0m\u001b[1;33m\u001b[0m\u001b[1;33m\u001b[0m\u001b[0m\n",
      "\u001b[1;32m~\\Documents\\Workspace\\mestrado\\stance\\dbcv.py\u001b[0m in \u001b[0;36mDBCV\u001b[1;34m(X, labels, dist_function)\u001b[0m\n\u001b[0;32m     25\u001b[0m         \u001b[0mscore\u001b[0m \u001b[1;32min\u001b[0m \u001b[0mrange\u001b[0m\u001b[1;33m[\u001b[0m\u001b[1;33m-\u001b[0m\u001b[1;36m1\u001b[0m\u001b[1;33m,\u001b[0m \u001b[1;36m1\u001b[0m\u001b[1;33m]\u001b[0m \u001b[0mindicating\u001b[0m \u001b[0mvalidity\u001b[0m \u001b[0mof\u001b[0m \u001b[0mclustering\u001b[0m \u001b[0massignments\u001b[0m\u001b[1;33m\u001b[0m\u001b[1;33m\u001b[0m\u001b[0m\n\u001b[0;32m     26\u001b[0m     \"\"\"\n\u001b[1;32m---> 27\u001b[1;33m     \u001b[0mgraph\u001b[0m \u001b[1;33m=\u001b[0m \u001b[0m_mutual_reach_dist_graph\u001b[0m\u001b[1;33m(\u001b[0m\u001b[0mX\u001b[0m\u001b[1;33m,\u001b[0m \u001b[0mlabels\u001b[0m\u001b[1;33m,\u001b[0m \u001b[0mdist_function\u001b[0m\u001b[1;33m)\u001b[0m\u001b[1;33m\u001b[0m\u001b[1;33m\u001b[0m\u001b[0m\n\u001b[0m\u001b[0;32m     28\u001b[0m     \u001b[0mmst\u001b[0m \u001b[1;33m=\u001b[0m \u001b[0m_mutual_reach_dist_MST\u001b[0m\u001b[1;33m(\u001b[0m\u001b[0mgraph\u001b[0m\u001b[1;33m)\u001b[0m\u001b[1;33m\u001b[0m\u001b[1;33m\u001b[0m\u001b[0m\n\u001b[0;32m     29\u001b[0m     \u001b[0mcluster_validity\u001b[0m \u001b[1;33m=\u001b[0m \u001b[0m_clustering_validity_index\u001b[0m\u001b[1;33m(\u001b[0m\u001b[0mmst\u001b[0m\u001b[1;33m,\u001b[0m \u001b[0mlabels\u001b[0m\u001b[1;33m)\u001b[0m\u001b[1;33m\u001b[0m\u001b[1;33m\u001b[0m\u001b[0m\n",
      "\u001b[1;32m~\\Documents\\Workspace\\mestrado\\stance\\dbcv.py\u001b[0m in \u001b[0;36m_mutual_reach_dist_graph\u001b[1;34m(X, labels, dist_function)\u001b[0m\n\u001b[0;32m    104\u001b[0m             \u001b[0mclass_i\u001b[0m \u001b[1;33m=\u001b[0m \u001b[0mlabels\u001b[0m\u001b[1;33m[\u001b[0m\u001b[0mrow\u001b[0m\u001b[1;33m]\u001b[0m\u001b[1;33m\u001b[0m\u001b[1;33m\u001b[0m\u001b[0m\n\u001b[0;32m    105\u001b[0m             \u001b[0mclass_j\u001b[0m \u001b[1;33m=\u001b[0m \u001b[0mlabels\u001b[0m\u001b[1;33m[\u001b[0m\u001b[0mcol\u001b[0m\u001b[1;33m]\u001b[0m\u001b[1;33m\u001b[0m\u001b[1;33m\u001b[0m\u001b[0m\n\u001b[1;32m--> 106\u001b[1;33m             \u001b[0mmembers_i\u001b[0m \u001b[1;33m=\u001b[0m \u001b[0m_get_label_members\u001b[0m\u001b[1;33m(\u001b[0m\u001b[0mX\u001b[0m\u001b[1;33m,\u001b[0m \u001b[0mlabels\u001b[0m\u001b[1;33m,\u001b[0m \u001b[0mclass_i\u001b[0m\u001b[1;33m)\u001b[0m\u001b[1;33m\u001b[0m\u001b[1;33m\u001b[0m\u001b[0m\n\u001b[0m\u001b[0;32m    107\u001b[0m             \u001b[0mmembers_j\u001b[0m \u001b[1;33m=\u001b[0m \u001b[0m_get_label_members\u001b[0m\u001b[1;33m(\u001b[0m\u001b[0mX\u001b[0m\u001b[1;33m,\u001b[0m \u001b[0mlabels\u001b[0m\u001b[1;33m,\u001b[0m \u001b[0mclass_j\u001b[0m\u001b[1;33m)\u001b[0m\u001b[1;33m\u001b[0m\u001b[1;33m\u001b[0m\u001b[0m\n\u001b[0;32m    108\u001b[0m             dist = _mutual_reachability_dist(point_i, point_j,\n",
      "\u001b[1;32m~\\Documents\\Workspace\\mestrado\\stance\\dbcv.py\u001b[0m in \u001b[0;36m_get_label_members\u001b[1;34m(X, labels, cluster)\u001b[0m\n\u001b[0;32m    232\u001b[0m         \u001b[0mspecified\u001b[0m \u001b[0mcluster\u001b[0m\u001b[1;33m.\u001b[0m\u001b[1;33m\u001b[0m\u001b[1;33m\u001b[0m\u001b[0m\n\u001b[0;32m    233\u001b[0m     \"\"\"\n\u001b[1;32m--> 234\u001b[1;33m     \u001b[0mindices\u001b[0m \u001b[1;33m=\u001b[0m \u001b[0mnp\u001b[0m\u001b[1;33m.\u001b[0m\u001b[0mwhere\u001b[0m\u001b[1;33m(\u001b[0m\u001b[0mlabels\u001b[0m \u001b[1;33m==\u001b[0m \u001b[0mcluster\u001b[0m\u001b[1;33m)\u001b[0m\u001b[1;33m[\u001b[0m\u001b[1;36m0\u001b[0m\u001b[1;33m]\u001b[0m\u001b[1;33m\u001b[0m\u001b[1;33m\u001b[0m\u001b[0m\n\u001b[0m\u001b[0;32m    235\u001b[0m     \u001b[0mmembers\u001b[0m \u001b[1;33m=\u001b[0m \u001b[0mX\u001b[0m\u001b[1;33m[\u001b[0m\u001b[0mindices\u001b[0m\u001b[1;33m]\u001b[0m\u001b[1;33m\u001b[0m\u001b[1;33m\u001b[0m\u001b[0m\n\u001b[0;32m    236\u001b[0m     \u001b[1;32mreturn\u001b[0m \u001b[0mmembers\u001b[0m\u001b[1;33m\u001b[0m\u001b[1;33m\u001b[0m\u001b[0m\n",
      "\u001b[1;31mKeyboardInterrupt\u001b[0m: "
     ]
    }
   ],
   "source": [
    "from dbcv import DBCV\n",
    "from scipy.spatial.distance import euclidean\n",
    "\n",
    "embeddings = UMAP(n_neighbors=18, n_components=2,  min_dist=0.1, metric='cosine').fit_transform(bert_base_embeddings)\n",
    "hdbscan_score = DBCV(embeddings, mpnet_best_clusters.labels_, dist_function=euclidean)\n",
    "hdbscan_score"
   ]
  },
  {
   "cell_type": "markdown",
   "id": "ba6c379c",
   "metadata": {},
   "source": [
    "## Extraindo tópicos"
   ]
  },
  {
   "cell_type": "code",
   "execution_count": 33,
   "id": "794797f3",
   "metadata": {},
   "outputs": [],
   "source": [
    "def clustering_documents(docs,cluster_labels):\n",
    "    docs_df = pd.DataFrame(docs, columns=[\"text\"])\n",
    "    docs_df['cluster'] = cluster_labels\n",
    "    docs_df['doc_id'] = range(len(docs_df))\n",
    "    docs_per_topic = docs_df.groupby(['cluster'], as_index = False).agg({'text': ' '.join})\n",
    "    return docs_df, docs_per_topic"
   ]
  },
  {
   "cell_type": "code",
   "execution_count": 34,
   "id": "fa7adc69",
   "metadata": {},
   "outputs": [],
   "source": [
    "docs_df, docs_per_topic = clustering_documents(docs,mpnet_best_clusters.labels_)"
   ]
  },
  {
   "cell_type": "code",
   "execution_count": 35,
   "id": "214821c9",
   "metadata": {},
   "outputs": [],
   "source": [
    "import numpy as np\n",
    "from sklearn.feature_extraction.text import CountVectorizer\n",
    "import nltk\n",
    "\n",
    "stop_words = nltk.corpus.stopwords.words(\"portuguese\")   \n",
    "\n",
    "def c_tf_idf(documents, m, ngram_range=(3, 3)):\n",
    "    count = CountVectorizer(ngram_range=ngram_range,stop_words=stop_words ).fit(documents)\n",
    "    t = count.transform(documents).toarray()\n",
    "    w = t.sum(axis=1)\n",
    "    tf = np.divide(t.T, w)\n",
    "    sum_t = t.sum(axis=0)\n",
    "    idf = np.log(np.divide(m, sum_t)).reshape(-1, 1)\n",
    "    tf_idf = np.multiply(tf, idf)\n",
    "\n",
    "    return tf_idf, count\n",
    "  \n",
    "c_tf_idf, count = c_tf_idf(docs_per_topic.text.values, m=len(docs))\n",
    "\n",
    "def extract_top_n_words_per_topic(c_tf_idf, count, docs_per_topic, n=10):\n",
    "    words = count.get_feature_names()\n",
    "    labels = list(docs_per_topic.cluster)\n",
    "    tf_idf_transposed = c_tf_idf.T\n",
    "    indices = tf_idf_transposed.argsort()[:, -n:]\n",
    "    top_n_words = {label: [(words[j], tf_idf_transposed[i][j]) for j in indices[i]][::-1] for i, label in enumerate(labels)}\n",
    "    return words, top_n_words\n",
    "\n",
    "def extract_topic_sizes(df):\n",
    "    topic_sizes = (df.groupby(['cluster'])\n",
    "                     .text\n",
    "                     .count()\n",
    "                     .reset_index()\n",
    "                     .rename({\"cluster\": \"topic\", \"text\": \"size\"}, axis='columns')\n",
    "                     .sort_values(\"size\", ascending=False))\n",
    "    return topic_sizes\n",
    "\n",
    "words,top_n_words = extract_top_n_words_per_topic(c_tf_idf, count, docs_per_topic, n=5)\n",
    "topic_sizes = extract_topic_sizes(docs_df); "
   ]
  },
  {
   "cell_type": "markdown",
   "id": "20b9f94d",
   "metadata": {},
   "source": [
    "## Extraindo intenções"
   ]
  },
  {
   "cell_type": "code",
   "execution_count": 36,
   "id": "7d744b55",
   "metadata": {},
   "outputs": [],
   "source": [
    "import collections\n",
    "\n",
    "\n",
    "def  most_common(lst, n_words):\n",
    "        \"\"\"\n",
    "        Return most common n words in list of words\n",
    "        Arguments:\n",
    "            lst: list of words\n",
    "            n_words: int, number of top words by frequency to return\n",
    "        Returns:\n",
    "            counter.most_common(n_words): a list of the n most common elements\n",
    "                                          and their counts from the most\n",
    "                                          common to the least\n",
    "        \"\"\"\n",
    "\n",
    "        counter = collections.Counter(lst)\n",
    "\n",
    "        return counter.most_common(n_words)"
   ]
  },
  {
   "cell_type": "code",
   "execution_count": 37,
   "id": "4b828fbc",
   "metadata": {},
   "outputs": [],
   "source": [
    "import spacy\n",
    "\n",
    "\n",
    "try:\n",
    "    #nlp = spacy.load(\"en_core_web_sm\")\n",
    "    nlp = spacy.load(\"pt_core_news_sm\")\n",
    "except OSError:\n",
    "    print(\"Downloading language model for the spaCy dependency parser\\n\"\n",
    "                  \"(only required the first time this is run)\\n\")\n",
    "    from spacy.cli import download\n",
    "    #download(\"en_core_web_sm\")\n",
    "    download(\"pt_core_news_sm\")\n",
    "    #nlp = spacy.load(\"en_core_web_sm\")\n",
    "    nlp =spacy.load(\"pt_core_news_sm\")\n",
    "\n",
    "def extract_labels(category_docs):\n",
    "    \"\"\"\n",
    "    Extract labels from documents in the same cluster by concatenating\n",
    "    most common verbs, ojects, and nouns\n",
    "    \"\"\"\n",
    "\n",
    "    verbs = []\n",
    "    dobjs = []\n",
    "    nouns = []\n",
    "    adjs = []\n",
    "    \n",
    "    verb = ''\n",
    "    dobj = ''\n",
    "    noun1 = ''\n",
    "    noun2 = ''\n",
    "\n",
    "    # for each document, append verbs, dobs, nouns, and adjectives to \n",
    "    # running lists for whole cluster\n",
    "    for i in range(len(category_docs)):\n",
    "        doc = nlp(category_docs[i])\n",
    "        for token in doc:\n",
    "            if token.is_stop==False:\n",
    "                if token.dep_ == 'ROOT':\n",
    "                    verbs.append(token.text.lower())\n",
    "\n",
    "                elif token.dep_=='dobj':\n",
    "                    dobjs.append(token.lemma_.lower())\n",
    "\n",
    "                elif token.pos_=='NOUN':\n",
    "                    nouns.append(token.lemma_.lower())\n",
    "                    \n",
    "                elif token.pos_=='ADJ':\n",
    "                    adjs.append(token.lemma_.lower())\n",
    "    \n",
    "    # take most common words of each form\n",
    "    if len(verbs) > 0:\n",
    "        verb = most_common(verbs, 1)[0][0]\n",
    "    \n",
    "    if len(dobjs) > 0:\n",
    "        dobj = most_common(dobjs, 1)[0][0]\n",
    "    \n",
    "    if len(nouns) > 0:\n",
    "        noun1 = most_common(nouns, 1)[0][0]\n",
    "    \n",
    "    if len(set(nouns)) > 1:\n",
    "        noun2 = most_common(nouns, 2)[1][0]\n",
    "    \n",
    "    # concatenate the most common verb-dobj-noun1-noun2 (if they exist)\n",
    "    label_words = [verb, dobj]\n",
    "    \n",
    "    for word in [noun1, noun2]:\n",
    "        if word not in label_words:\n",
    "            label_words.append(word)\n",
    "    \n",
    "    if '' in label_words:\n",
    "        label_words.remove('')\n",
    "    \n",
    "    label = '_'.join(label_words)\n",
    "    \n",
    "    return label"
   ]
  },
  {
   "cell_type": "code",
   "execution_count": 44,
   "id": "90c09cf7",
   "metadata": {},
   "outputs": [
    {
     "data": {
      "text/html": [
       "<div>\n",
       "<style scoped>\n",
       "    .dataframe tbody tr th:only-of-type {\n",
       "        vertical-align: middle;\n",
       "    }\n",
       "\n",
       "    .dataframe tbody tr th {\n",
       "        vertical-align: top;\n",
       "    }\n",
       "\n",
       "    .dataframe thead th {\n",
       "        text-align: right;\n",
       "    }\n",
       "</style>\n",
       "<table border=\"1\" class=\"dataframe\">\n",
       "  <thead>\n",
       "    <tr style=\"text-align: right;\">\n",
       "      <th></th>\n",
       "      <th>text</th>\n",
       "      <th>cluster</th>\n",
       "      <th>doc_id</th>\n",
       "    </tr>\n",
       "  </thead>\n",
       "  <tbody>\n",
       "    <tr>\n",
       "      <th>1557</th>\n",
       "      <td>I want to open an account for my children</td>\n",
       "      <td>1</td>\n",
       "      <td>1557</td>\n",
       "    </tr>\n",
       "    <tr>\n",
       "      <th>1558</th>\n",
       "      <td>How old do you need to be to use the banks ser...</td>\n",
       "      <td>1</td>\n",
       "      <td>1558</td>\n",
       "    </tr>\n",
       "    <tr>\n",
       "      <th>1559</th>\n",
       "      <td>Whats the minimum age to have an account</td>\n",
       "      <td>1</td>\n",
       "      <td>1559</td>\n",
       "    </tr>\n",
       "    <tr>\n",
       "      <th>1560</th>\n",
       "      <td>Can my children open an account?</td>\n",
       "      <td>1</td>\n",
       "      <td>1560</td>\n",
       "    </tr>\n",
       "    <tr>\n",
       "      <th>1561</th>\n",
       "      <td>How old do I need to be?</td>\n",
       "      <td>1</td>\n",
       "      <td>1561</td>\n",
       "    </tr>\n",
       "    <tr>\n",
       "      <th>...</th>\n",
       "      <td>...</td>\n",
       "      <td>...</td>\n",
       "      <td>...</td>\n",
       "    </tr>\n",
       "    <tr>\n",
       "      <th>1663</th>\n",
       "      <td>Can I make an account for my daughter?</td>\n",
       "      <td>1</td>\n",
       "      <td>1663</td>\n",
       "    </tr>\n",
       "    <tr>\n",
       "      <th>1664</th>\n",
       "      <td>What's the youngest I can be to open an account?</td>\n",
       "      <td>1</td>\n",
       "      <td>1664</td>\n",
       "    </tr>\n",
       "    <tr>\n",
       "      <th>1665</th>\n",
       "      <td>Do you have an age requirement when opening an...</td>\n",
       "      <td>1</td>\n",
       "      <td>1665</td>\n",
       "    </tr>\n",
       "    <tr>\n",
       "      <th>1666</th>\n",
       "      <td>Is it possible for me to set up separate accou...</td>\n",
       "      <td>1</td>\n",
       "      <td>1666</td>\n",
       "    </tr>\n",
       "    <tr>\n",
       "      <th>7377</th>\n",
       "      <td>can my husband open an account and transfer money</td>\n",
       "      <td>1</td>\n",
       "      <td>7377</td>\n",
       "    </tr>\n",
       "  </tbody>\n",
       "</table>\n",
       "<p>110 rows × 3 columns</p>\n",
       "</div>"
      ],
      "text/plain": [
       "                                                   text  cluster  doc_id\n",
       "1557          I want to open an account for my children        1    1557\n",
       "1558  How old do you need to be to use the banks ser...        1    1558\n",
       "1559           Whats the minimum age to have an account        1    1559\n",
       "1560                   Can my children open an account?        1    1560\n",
       "1561                           How old do I need to be?        1    1561\n",
       "...                                                 ...      ...     ...\n",
       "1663             Can I make an account for my daughter?        1    1663\n",
       "1664   What's the youngest I can be to open an account?        1    1664\n",
       "1665  Do you have an age requirement when opening an...        1    1665\n",
       "1666  Is it possible for me to set up separate accou...        1    1666\n",
       "7377  can my husband open an account and transfer money        1    7377\n",
       "\n",
       "[110 rows x 3 columns]"
      ]
     },
     "execution_count": 44,
     "metadata": {},
     "output_type": "execute_result"
    }
   ],
   "source": [
    "docs_df[docs_df.cluster==1]"
   ]
  },
  {
   "cell_type": "code",
   "execution_count": 39,
   "id": "9abd050e",
   "metadata": {},
   "outputs": [],
   "source": [
    "cluster_labels = np.unique(mpnet_best_clusters.labels_)\n",
    "\n",
    "label_dict = {}\n",
    "for label in cluster_labels:\n",
    "    cluster =  pd.DataFrame(docs_df[docs_df.cluster==label].text)\n",
    "    cluster = cluster.reset_index().drop(columns=[\"index\"])\n",
    "    label_dict[label] = extract_labels(cluster.text)"
   ]
  },
  {
   "cell_type": "code",
   "execution_count": 40,
   "id": "6808629e",
   "metadata": {},
   "outputs": [
    {
     "data": {
      "text/plain": [
       "{-1: 'charged_money_payment_account',\n",
       " 0: 'want_account_service',\n",
       " 1: 'open_account_age_child',\n",
       " 2: 'change_pin_card',\n",
       " 3: 'help_passcode_phone_app',\n",
       " 4: 'need_detail_account',\n",
       " 5: 'need_identity_verification',\n",
       " 6: 'charged_fee_transfer',\n",
       " 7: 'topped_card_money',\n",
       " 8: 'need_card_verification',\n",
       " 9: 'transfer_money_beneficiary',\n",
       " 10: 'tell_card_limit',\n",
       " 11: 'activate_card_app',\n",
       " 12: 'charged_fee_withdrawal',\n",
       " 13: 'tried_cash_withdrawal',\n",
       " 14: 'use_express_apple_account',\n",
       " 15: 'charged_currency_exchange',\n",
       " 16: 'think_rate_exchange',\n",
       " 17: 'need_refund_account',\n",
       " 18: 'need_source_fund_money',\n",
       " 19: 'tried_transfer_account',\n",
       " 20: 'use_money_currency_account',\n",
       " 21: 'use_card_limit',\n",
       " 22: 'need_card_week',\n",
       " 23: 'declined_card_payment',\n",
       " 24: 'pending_payment_card',\n",
       " 25: 'think_card_account',\n",
       " 26: 'recognize_payment_debit',\n",
       " 27: 'like_visa_card_mastercard',\n",
       " 28: 'use_card_country',\n",
       " 29: 'charged_charge_card',\n",
       " 30: 'charged_fee_card'}"
      ]
     },
     "execution_count": 40,
     "metadata": {},
     "output_type": "execute_result"
    }
   ],
   "source": [
    "label_dict"
   ]
  },
  {
   "cell_type": "code",
   "execution_count": null,
   "id": "6ce55a55",
   "metadata": {},
   "outputs": [],
   "source": [
    "import numpy as np\n",
    "import pandas as pd\n",
    "from umap import UMAP\n",
    "from typing import List\n",
    "from sklearn.preprocessing import MinMaxScaler\n",
    "\n",
    "import plotly.express as px\n",
    "import plotly.graph_objects as go\n",
    "\n",
    "\n",
    "def visualize_topics(topic_model,\n",
    "                     topics: List[int] = None,\n",
    "                     top_n_topics: int = None,\n",
    "                     width: int = 650,\n",
    "                     height: int = 650) -> go.Figure:\n",
    "    \"\"\" Visualize topics, their sizes, and their corresponding words\n",
    "    This visualization is highly inspired by LDAvis, a great visualization\n",
    "    technique typically reserved for LDA.\n",
    "    Arguments:\n",
    "        topic_model: A fitted BERTopic instance.\n",
    "        topics: A selection of topics to visualize\n",
    "        top_n_topics: Only select the top n most frequent topics\n",
    "        width: The width of the figure.\n",
    "        height: The height of the figure.\n",
    "    Usage:\n",
    "    To visualize the topics simply run:\n",
    "    ```python\n",
    "    topic_model.visualize_topics()\n",
    "    ```\n",
    "    Or if you want to save the resulting figure:\n",
    "    ```python\n",
    "    fig = topic_model.visualize_topics()\n",
    "    fig.write_html(\"path/to/file.html\")\n",
    "    ```\n",
    "    <iframe src=\"../../getting_started/visualization/viz.html\"\n",
    "    style=\"width:1000px; height: 680px; border: 0px;\"\"></iframe>\n",
    "    \"\"\"\n",
    "    # Select topics based on top_n and topics args\n",
    "    if topics is not None:\n",
    "        topics = list(topics)\n",
    "    elif top_n_topics is not None:\n",
    "        topics = sorted(topic_model.get_topic_freq().Topic.to_list()[1:top_n_topics + 1])\n",
    "    else:\n",
    "        topics = sorted(list(topic_model.get_topics().keys()))\n",
    "\n",
    "    # Extract topic words and their frequencies\n",
    "    topic_list = sorted(topics)\n",
    "    frequencies = [topic_model.topic_sizes[topic] for topic in topic_list]\n",
    "    words = [\" | \".join([word[0] for word in topic_model.get_topic(topic)[:5]]) for topic in topic_list]\n",
    "\n",
    "    # Embed c-TF-IDF into 2D\n",
    "    all_topics = sorted(list(topic_model.get_topics().keys()))\n",
    "    indices = np.array([all_topics.index(topic) for topic in topics])\n",
    "    embeddings = topic_model.c_tf_idf.toarray()[indices]\n",
    "    embeddings = MinMaxScaler().fit_transform(embeddings)\n",
    "    embeddings = UMAP(n_neighbors=2, n_components=2, metric='hellinger').fit_transform(embeddings)\n",
    "\n",
    "    # Visualize with plotly\n",
    "    df = pd.DataFrame({\"x\": embeddings[1:, 0], \"y\": embeddings[1:, 1],\n",
    "                       \"Topic\": topic_list[1:], \"Words\": words[1:], \"Size\": frequencies[1:]})\n",
    "    return _plotly_topic_visualization(df, topic_list, width, height)\n",
    "\n",
    "\n",
    "def _plotly_topic_visualization(df: pd.DataFrame,\n",
    "                                topic_list: List[str],\n",
    "                                width: int,\n",
    "                                height: int):\n",
    "    \"\"\" Create plotly-based visualization of topics with a slider for topic selection \"\"\"\n",
    "\n",
    "    def get_color(topic_selected):\n",
    "        if topic_selected == -1:\n",
    "            marker_color = [\"#B0BEC5\" for _ in topic_list[1:]]\n",
    "        else:\n",
    "            marker_color = [\"red\" if topic == topic_selected else \"#B0BEC5\" for topic in topic_list[1:]]\n",
    "        return [{'marker.color': [marker_color]}]\n",
    "\n",
    "    # Prepare figure range\n",
    "    x_range = (df.x.min() - abs((df.x.min()) * .15), df.x.max() + abs((df.x.max()) * .15))\n",
    "    y_range = (df.y.min() - abs((df.y.min()) * .15), df.y.max() + abs((df.y.max()) * .15))\n",
    "\n",
    "    # Plot topics\n",
    "    fig = px.scatter(df, x=\"x\", y=\"y\", size=\"Size\", size_max=40, template=\"simple_white\", labels={\"x\": \"\", \"y\": \"\"},\n",
    "                     hover_data={\"Topic\": True, \"Words\": True, \"Size\": True, \"x\": False, \"y\": False})\n",
    "    fig.update_traces(marker=dict(color=\"#B0BEC5\", line=dict(width=2, color='DarkSlateGrey')))\n",
    "\n",
    "    # Update hover order\n",
    "    fig.update_traces(hovertemplate=\"<br>\".join([\"<b>Topic %{customdata[0]}</b>\",\n",
    "                                                 \"Words: %{customdata[1]}\",\n",
    "                                                 \"Size: %{customdata[2]}\"]))\n",
    "\n",
    "    # Create a slider for topic selection\n",
    "    steps = [dict(label=f\"Topic {topic}\", method=\"update\", args=get_color(topic)) for topic in topic_list[1:]]\n",
    "    sliders = [dict(active=0, pad={\"t\": 50}, steps=steps)]\n",
    "\n",
    "    # Stylize layout\n",
    "    fig.update_layout(\n",
    "        title={\n",
    "            'text': \"<b>Intertopic Distance Map\",\n",
    "            'y': .95,\n",
    "            'x': 0.5,\n",
    "            'xanchor': 'center',\n",
    "            'yanchor': 'top',\n",
    "            'font': dict(\n",
    "                size=22,\n",
    "                color=\"Black\")\n",
    "        },\n",
    "        width=width,\n",
    "        height=height,\n",
    "        hoverlabel=dict(\n",
    "            bgcolor=\"white\",\n",
    "            font_size=16,\n",
    "            font_family=\"Rockwell\"\n",
    "        ),\n",
    "        xaxis={\"visible\": False},\n",
    "        yaxis={\"visible\": False},\n",
    "        sliders=sliders\n",
    "    )\n",
    "\n",
    "    # Update axes ranges\n",
    "    fig.update_xaxes(range=x_range)\n",
    "    fig.update_yaxes(range=y_range)\n",
    "\n",
    "    # Add grid in a 'plus' shape\n",
    "    fig.add_shape(type=\"line\",\n",
    "                  x0=sum(x_range) / 2, y0=y_range[0], x1=sum(x_range) / 2, y1=y_range[1],\n",
    "                  line=dict(color=\"#CFD8DC\", width=2))\n",
    "    fig.add_shape(type=\"line\",\n",
    "                  x0=x_range[0], y0=sum(y_range) / 2, x1=x_range[1], y1=sum(y_range) / 2,\n",
    "                  line=dict(color=\"#9E9E9E\", width=2))\n",
    "    fig.add_annotation(x=x_range[0], y=sum(y_range) / 2, text=\"D1\", showarrow=False, yshift=10)\n",
    "    fig.add_annotation(y=y_range[1], x=sum(x_range) / 2, text=\"D2\", showarrow=False, xshift=10)\n",
    "    fig.data = fig.data[::-1]\n",
    "\n",
    "    return fig"
   ]
  }
 ],
 "metadata": {
  "kernelspec": {
   "display_name": "Python 3 (ipykernel)",
   "language": "python",
   "name": "python3"
  },
  "language_info": {
   "codemirror_mode": {
    "name": "ipython",
    "version": 3
   },
   "file_extension": ".py",
   "mimetype": "text/x-python",
   "name": "python",
   "nbconvert_exporter": "python",
   "pygments_lexer": "ipython3",
   "version": "3.9.7"
  }
 },
 "nbformat": 4,
 "nbformat_minor": 5
}
